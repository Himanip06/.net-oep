{
  "nbformat": 4,
  "nbformat_minor": 0,
  "metadata": {
    "colab": {
      "name": "Untitled1.ipynb",
      "provenance": [],
      "collapsed_sections": [],
      "include_colab_link": true
    },
    "kernelspec": {
      "name": "python3",
      "display_name": "Python 3"
    }
  },
  "cells": [
    {
      "cell_type": "markdown",
      "metadata": {
        "id": "view-in-github",
        "colab_type": "text"
      },
      "source": [
        "<a href=\"https://colab.research.google.com/github/Himanip06/Tensorflow-practice-notebooks/blob/master/Artificial-Neural-Network_practice.ipynb\" target=\"_parent\"><img src=\"https://colab.research.google.com/assets/colab-badge.svg\" alt=\"Open In Colab\"/></a>"
      ]
    },
    {
      "cell_type": "code",
      "metadata": {
        "id": "Ozz3D0OVKShj",
        "colab_type": "code",
        "colab": {}
      },
      "source": [
        "# Code to read csv file into colaboratory:\n",
        "!pip install -U -q PyDrive\n",
        "from pydrive.auth import GoogleAuth\n",
        "from pydrive.drive import GoogleDrive\n",
        "from google.colab import auth\n",
        "from oauth2client.client import GoogleCredentials\n"
      ],
      "execution_count": 0,
      "outputs": []
    },
    {
      "cell_type": "code",
      "metadata": {
        "id": "EDtmF9skKfUk",
        "colab_type": "code",
        "colab": {}
      },
      "source": [
        "auth.authenticate_user()\n",
        "gauth = GoogleAuth()\n",
        "gauth.credentials = GoogleCredentials.get_application_default()\n",
        "drive = GoogleDrive(gauth)"
      ],
      "execution_count": 0,
      "outputs": []
    },
    {
      "cell_type": "code",
      "metadata": {
        "id": "9rtBNVCuLzFk",
        "colab_type": "code",
        "colab": {}
      },
      "source": [
        "#2.1 Get the file\n",
        "downloaded = drive.CreateFile({'id':'16BGd3ofp2LVYCqjN2POnbjDjTfj2ha2P'}) # replace the id with id of file you want to access\n",
        "downloaded.GetContentFile('Churn_Modelling.csv')"
      ],
      "execution_count": 0,
      "outputs": []
    },
    {
      "cell_type": "code",
      "metadata": {
        "id": "boanakL9L7T1",
        "colab_type": "code",
        "colab": {}
      },
      "source": [
        "#3.1 Read file as panda dataframe\n",
        "#import pandas as pd\n",
        "#xyz = pd.read_csv('Churn_Modelling.csv') \n",
        "#print(xyz.head(1))"
      ],
      "execution_count": 0,
      "outputs": []
    },
    {
      "cell_type": "code",
      "metadata": {
        "id": "FA9DPvkyMnP-",
        "colab_type": "code",
        "colab": {}
      },
      "source": [
        "import numpy as np\n",
        "import matplotlib.pyplot as plt\n",
        "import pandas as pd\n"
      ],
      "execution_count": 0,
      "outputs": []
    },
    {
      "cell_type": "code",
      "metadata": {
        "id": "AAxu2xHeM5RI",
        "colab_type": "code",
        "colab": {}
      },
      "source": [
        "#Reading the dataset\n",
        "dataset=pd.read_csv('Churn_Modelling.csv')\n",
        "X=dataset.iloc[:, 3:13].values\n",
        "Y=dataset.iloc[:, 13].values"
      ],
      "execution_count": 0,
      "outputs": []
    },
    {
      "cell_type": "code",
      "metadata": {
        "id": "Vzn6lO4EPYne",
        "colab_type": "code",
        "colab": {}
      },
      "source": [
        "X"
      ],
      "execution_count": 0,
      "outputs": []
    },
    {
      "cell_type": "code",
      "metadata": {
        "id": "Ro1-T-lVP-1X",
        "colab_type": "code",
        "colab": {}
      },
      "source": [
        "from sklearn.preprocessing import LabelEncoder, OneHotEncoder\n",
        "labelencoder_X_1=LabelEncoder()\n",
        "X[:, 1]=labelencoder_X_1.fit_transform(X[:, 1])\n",
        "labelencoder_X_2=LabelEncoder()\n",
        "X[:, 2]=labelencoder_X_2.fit_transform(X[:, 2])\n",
        "onehotencoder=OneHotEncoder(categorical_features=[1])\n",
        "X=onehotencoder.fit_transform(X).toarray()"
      ],
      "execution_count": 0,
      "outputs": []
    },
    {
      "cell_type": "code",
      "metadata": {
        "id": "BwNB_gZbQfjf",
        "colab_type": "code",
        "colab": {}
      },
      "source": [
        "X=X[:, 1:]"
      ],
      "execution_count": 0,
      "outputs": []
    },
    {
      "cell_type": "code",
      "metadata": {
        "colab_type": "code",
        "id": "hjUrqR30WYdg",
        "colab": {}
      },
      "source": [
        "#Splitting the dataset into the Training set and Test set\n",
        "from sklearn.model_selection import train_test_split\n",
        "X_train,X_test,Y_train,Y_test=train_test_split(X,Y,test_size=0.2,random_state=0)"
      ],
      "execution_count": 0,
      "outputs": []
    },
    {
      "cell_type": "code",
      "metadata": {
        "id": "RcC1eqqZXAaM",
        "colab_type": "code",
        "colab": {}
      },
      "source": [
        "#feature Scaling\n",
        "from sklearn.preprocessing import StandardScaler\n",
        "sc=StandardScaler()\n",
        "X_train=sc.fit_transform(X_train)\n",
        "X_test=sc.transform(X_test)                 "
      ],
      "execution_count": 0,
      "outputs": []
    },
    {
      "cell_type": "code",
      "metadata": {
        "id": "a-y7joy3Xr4H",
        "colab_type": "code",
        "colab": {}
      },
      "source": [
        "X_train"
      ],
      "execution_count": 0,
      "outputs": []
    },
    {
      "cell_type": "code",
      "metadata": {
        "id": "qkU1iRqsYz8q",
        "colab_type": "code",
        "colab": {}
      },
      "source": [
        "#PART-2 --Now let's make the ANN!\n",
        "#Importing the keras libraries and packages\n",
        "import keras\n",
        "from keras.models import Sequential\n",
        "from keras.layers import Dense"
      ],
      "execution_count": 0,
      "outputs": []
    },
    {
      "cell_type": "code",
      "metadata": {
        "id": "NAvHi4NSaTCY",
        "colab_type": "code",
        "colab": {}
      },
      "source": [
        "#Initializing the ANN\n",
        "classifier=Sequential()"
      ],
      "execution_count": 0,
      "outputs": []
    },
    {
      "cell_type": "code",
      "metadata": {
        "id": "hUUsYzSlu_0H",
        "colab_type": "code",
        "colab": {}
      },
      "source": [
        "#adding the input layer and the first hidden layer\n",
        "classifier.add(Dense(output_dim=6, init='uniform', activation='relu', input_dim=11))"
      ],
      "execution_count": 0,
      "outputs": []
    },
    {
      "cell_type": "code",
      "metadata": {
        "id": "m7W-MSmzxHWh",
        "colab_type": "code",
        "colab": {}
      },
      "source": [
        "#adding the second hidden layer\n",
        "classifier.add(Dense(output_dim=6, init='uniform', activation='relu'))"
      ],
      "execution_count": 0,
      "outputs": []
    },
    {
      "cell_type": "code",
      "metadata": {
        "id": "jrjYalC5yjqa",
        "colab_type": "code",
        "colab": {}
      },
      "source": [
        "#adding the output layer\n",
        "classifier.add(Dense(output_dim=1, init='uniform', activation='sigmoid'))"
      ],
      "execution_count": 0,
      "outputs": []
    },
    {
      "cell_type": "code",
      "metadata": {
        "id": "7vqwE8sXy6lE",
        "colab_type": "code",
        "colab": {}
      },
      "source": [
        "#compiling the ANN\n",
        "classifier.compile(optimizer='adam',loss='binary_crossentropy', metrics=['accuracy'])"
      ],
      "execution_count": 0,
      "outputs": []
    },
    {
      "cell_type": "code",
      "metadata": {
        "id": "L0XYPSlR2H9G",
        "colab_type": "code",
        "colab": {}
      },
      "source": [
        "#fitting an ANN to the training set\n",
        "classifier.fit(X_train, Y_train, batch_size=10, epochs=40)"
      ],
      "execution_count": 0,
      "outputs": []
    },
    {
      "cell_type": "code",
      "metadata": {
        "id": "_LHUxVAW38Wh",
        "colab_type": "code",
        "colab": {}
      },
      "source": [
        "#part-3 making the predictions and evaluating the model\n",
        "#predicting the Test set results\n",
        "Y_pred=classifier.predict(X_test)\n",
        "Y_pred=(Y_pred > 0.5)"
      ],
      "execution_count": 0,
      "outputs": []
    },
    {
      "cell_type": "code",
      "metadata": {
        "id": "LGaX5Skh6Lrk",
        "colab_type": "code",
        "colab": {}
      },
      "source": [
        "Y_pred"
      ],
      "execution_count": 0,
      "outputs": []
    },
    {
      "cell_type": "code",
      "metadata": {
        "id": "IITa_DIt6-iq",
        "colab_type": "code",
        "colab": {}
      },
      "source": [
        "#Making the confusion matrix\n",
        "from sklearn.metrics import confusion_matrix\n",
        "cm=confusion_matrix(Y_test, Y_pred)"
      ],
      "execution_count": 0,
      "outputs": []
    },
    {
      "cell_type": "code",
      "metadata": {
        "id": "nFeAbe2r7gob",
        "colab_type": "code",
        "outputId": "307fd5c6-f562-41b0-ee21-41bff546f4cb",
        "colab": {
          "base_uri": "https://localhost:8080/",
          "height": 54
        }
      },
      "source": [
        "cm"
      ],
      "execution_count": 0,
      "outputs": [
        {
          "output_type": "execute_result",
          "data": {
            "text/plain": [
              "array([[1544,   51],\n",
              "       [ 264,  141]])"
            ]
          },
          "metadata": {
            "tags": []
          },
          "execution_count": 37
        }
      ]
    },
    {
      "cell_type": "code",
      "metadata": {
        "id": "owQkBqzV7kGl",
        "colab_type": "code",
        "outputId": "b2b7d49d-9d7a-4d52-ff73-27a73951bd81",
        "colab": {
          "base_uri": "https://localhost:8080/",
          "height": 36
        }
      },
      "source": [
        "(1544 + 141)/2000"
      ],
      "execution_count": 0,
      "outputs": [
        {
          "output_type": "execute_result",
          "data": {
            "text/plain": [
              "0.8425"
            ]
          },
          "metadata": {
            "tags": []
          },
          "execution_count": 38
        }
      ]
    }
  ]
}