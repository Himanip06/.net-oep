{
  "nbformat": 4,
  "nbformat_minor": 0,
  "metadata": {
    "colab": {
      "name": "Untitled0.ipynb",
      "provenance": [],
      "collapsed_sections": [],
      "include_colab_link": true
    },
    "kernelspec": {
      "name": "python3",
      "display_name": "Python 3"
    },
    "accelerator": "GPU"
  },
  "cells": [
    {
      "cell_type": "markdown",
      "metadata": {
        "id": "view-in-github",
        "colab_type": "text"
      },
      "source": [
        "<a href=\"https://colab.research.google.com/github/Himanip06/Tensorflow-practice-notebooks/blob/master/Scratch_model.ipynb\" target=\"_parent\"><img src=\"https://colab.research.google.com/assets/colab-badge.svg\" alt=\"Open In Colab\"/></a>"
      ]
    },
    {
      "cell_type": "code",
      "metadata": {
        "id": "lFsRf3Ahi5OX",
        "colab_type": "code",
        "colab": {}
      },
      "source": [
        "from google.colab import drive"
      ],
      "execution_count": 0,
      "outputs": []
    },
    {
      "cell_type": "code",
      "metadata": {
        "id": "v5Rr2ZGVQf-U",
        "colab_type": "code",
        "colab": {}
      },
      "source": [
        "# authentication\n",
        "drive.mount('/content/drive')"
      ],
      "execution_count": 0,
      "outputs": []
    },
    {
      "cell_type": "code",
      "metadata": {
        "id": "xS0_-NaMQZIw",
        "colab_type": "code",
        "colab": {}
      },
      "source": [
        "#CNN\n",
        "#Importing the keras libraries and packages\n",
        "from keras.models import Sequential\n",
        "from keras.layers import Convolution2D\n",
        "from keras.layers import MaxPooling2D\n",
        "from keras.layers import Flatten\n",
        "from keras.layers import Dense"
      ],
      "execution_count": 0,
      "outputs": []
    },
    {
      "cell_type": "code",
      "metadata": {
        "id": "58VrfJ9XC7SL",
        "colab_type": "code",
        "colab": {}
      },
      "source": [
        "#Initialising the CNN\n",
        "classifier=Sequential()"
      ],
      "execution_count": 0,
      "outputs": []
    },
    {
      "cell_type": "code",
      "metadata": {
        "id": "Bv88CjrgGrf0",
        "colab_type": "code",
        "colab": {}
      },
      "source": [
        "#Step-1 Convolution\n",
        "classifier.add(Convolution2D(32, 3, 3, input_shape = (64, 64, 3), activation = 'relu'))"
      ],
      "execution_count": 0,
      "outputs": []
    },
    {
      "cell_type": "code",
      "metadata": {
        "id": "SwekOxPeI9U6",
        "colab_type": "code",
        "colab": {}
      },
      "source": [
        "#Step-2 Pooling\n",
        "classifier.add(MaxPooling2D(pool_size = (2, 2)))"
      ],
      "execution_count": 0,
      "outputs": []
    },
    {
      "cell_type": "code",
      "metadata": {
        "id": "IPLMOalEY2Un",
        "colab_type": "code",
        "colab": {}
      },
      "source": [
        "#adding second convolutional layer\n",
        "classifier.add(Convolution2D(32, 3, 3, activation = 'relu'))\n",
        "classifier.add(MaxPooling2D(pool_size = (2, 2)))"
      ],
      "execution_count": 0,
      "outputs": []
    },
    {
      "cell_type": "code",
      "metadata": {
        "id": "iTfx6c34Km8l",
        "colab_type": "code",
        "colab": {}
      },
      "source": [
        "#step-3 Flattening\n",
        "classifier.add(Flatten())"
      ],
      "execution_count": 0,
      "outputs": []
    },
    {
      "cell_type": "code",
      "metadata": {
        "id": "Q_h5vCv1C9e9",
        "colab_type": "code",
        "colab": {}
      },
      "source": [
        "#Step-4 Full connection \n",
        "#hidden layer of the ANN\n",
        "#flatten layer will be the input layer\n",
        "classifier.add(Dense(output_dim = 128 , activation = 'relu'))\n",
        "classifier.add(Dense(output_dim = 1, activation = 'sigmoid'))"
      ],
      "execution_count": 0,
      "outputs": []
    },
    {
      "cell_type": "code",
      "metadata": {
        "id": "JmYqUGD5Ecit",
        "colab_type": "code",
        "colab": {}
      },
      "source": [
        "#compiling the ANN\n",
        "classifier.compile(optimizer = 'adam', loss = 'binary_crossentropy', metrics = ['accuracy'] )"
      ],
      "execution_count": 0,
      "outputs": []
    },
    {
      "cell_type": "code",
      "metadata": {
        "id": "-x5EA3VsIGtU",
        "colab_type": "code",
        "colab": {}
      },
      "source": [
        "#Part-2 Fitting the CNN to the images\n",
        "from keras.preprocessing.image import ImageDataGenerator\n",
        "train_datagen = ImageDataGenerator(\n",
        "        rescale=1./255,\n",
        "        shear_range=0.2,\n",
        "        zoom_range=0.2,\n",
        "        horizontal_flip=True)\n",
        "\n",
        "test_datagen = ImageDataGenerator(rescale=1./255)\n",
        "\n",
        "training_set = train_datagen.flow_from_directory('drive/My Drive/dataset/training_set',\n",
        "                                                  target_size=(64, 64),\n",
        "                                                  batch_size=32,\n",
        "                                                  class_mode='binary')\n",
        "                                                  \n",
        "\n",
        "test_set = test_datagen.flow_from_directory('drive/My Drive/dataset/test_set',target_size=(64, 64),batch_size=32,class_mode='binary')\n",
        "        \n",
        "classifier.fit_generator(training_set,\n",
        "                         samples_per_epoch = 200,\n",
        "                         nb_epoch=10,\n",
        "                         validation_data=test_set,\n",
        "                         nb_val_samples=100)\n",
        "        \n"
      ],
      "execution_count": 0,
      "outputs": []
    }
  ]
}